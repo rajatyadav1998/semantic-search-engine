{
  "nbformat": 4,
  "nbformat_minor": 0,
  "metadata": {
    "colab": {
      "provenance": []
    },
    "kernelspec": {
      "name": "python3",
      "display_name": "Python 3"
    },
    "language_info": {
      "name": "python"
    }
  },
  "cells": [
    {
      "cell_type": "code",
      "execution_count": null,
      "metadata": {
        "id": "uSArez2NmMPz",
        "collapsed": true
      },
      "outputs": [],
      "source": [
        "!pip install -U sentence-transformers\n"
      ]
    },
    {
      "cell_type": "code",
      "source": [
        "import pandas as pd\n",
        "\n",
        "# Load the uploaded file (adjust filename if needed)\n",
        "df_questions = pd.read_csv(\"Questions.csv\", usecols=[\"Id\", \"Title\", \"Body\", \"CreationDate\"], nrows=50000)\n",
        "\n",
        "# Display first few rows\n",
        "df_questions.head()\n"
      ],
      "metadata": {
        "id": "ThwTp26GhUa7",
        "collapsed": true
      },
      "execution_count": null,
      "outputs": []
    },
    {
      "cell_type": "code",
      "source": [
        "from sentence_transformers import SentenceTransformer\n",
        "\n",
        "# Load a small, fast, effective sentence embedding model\n",
        "model = SentenceTransformer(\"all-MiniLM-L6-v2\")\n"
      ],
      "metadata": {
        "id": "c5ENqm6OhelI",
        "collapsed": true
      },
      "execution_count": null,
      "outputs": []
    },
    {
      "cell_type": "code",
      "source": [
        "# Extract question titles\n",
        "titles = df_questions['Title'].astype(str).tolist()\n",
        "\n",
        "# Generate dense vector embeddings\n",
        "embeddings = model.encode(titles, show_progress_bar=True)\n"
      ],
      "metadata": {
        "id": "8pG_1GKiiJst",
        "collapsed": true
      },
      "execution_count": null,
      "outputs": []
    },
    {
      "cell_type": "code",
      "source": [
        "import numpy as np\n",
        "\n",
        "np.save(\"question_titles.npy\", titles)\n",
        "np.save(\"question_embeddings.npy\", embeddings)\n"
      ],
      "metadata": {
        "id": "u7IOYf9ZibqZ"
      },
      "execution_count": null,
      "outputs": []
    },
    {
      "cell_type": "code",
      "source": [
        "!pip install fastapi nest-asyncio pyngrok uvicorn\n"
      ],
      "metadata": {
        "id": "lmAAIzulkhUf"
      },
      "execution_count": null,
      "outputs": []
    },
    {
      "cell_type": "code",
      "source": [
        "from fastapi import FastAPI\n",
        "from pydantic import BaseModel\n",
        "import numpy as np\n",
        "import uvicorn\n",
        "import nest_asyncio\n",
        "from pyngrok import ngrok\n"
      ],
      "metadata": {
        "id": "9-fiFO46SWzr"
      },
      "execution_count": null,
      "outputs": []
    },
    {
      "cell_type": "code",
      "source": [
        "app = FastAPI()\n",
        "\n",
        "titles = np.load(\"question_titles.npy\", allow_pickle=True)\n",
        "embeddings = np.load(\"question_embeddings.npy\", allow_pickle=True)\n",
        "\n",
        "class QueryRequest(BaseModel):\n",
        "    query: str\n",
        "\n",
        "@app.post(\"/search\")\n",
        "def search_questions(req: QueryRequest):\n",
        "    from sklearn.metrics.pairwise import cosine_similarity\n",
        "    from sentence_transformers import SentenceTransformer\n",
        "\n",
        "    model = SentenceTransformer(\"all-MiniLM-L6-v2\")\n",
        "    query_embedding = model.encode([req.query])\n",
        "\n",
        "    scores = cosine_similarity(query_embedding, embeddings)[0]\n",
        "    top_indices = scores.argsort()[::-1][:5]\n",
        "    top_titles = titles[top_indices]\n",
        "\n",
        "    return {\"top_results\": top_titles.tolist()}\n"
      ],
      "metadata": {
        "id": "fpqspT_1SiOb"
      },
      "execution_count": null,
      "outputs": []
    },
    {
      "cell_type": "code",
      "source": [
        "!pip install nest_asyncio\n",
        "import nest_asyncio\n",
        "nest_asyncio.apply()\n"
      ],
      "metadata": {
        "colab": {
          "base_uri": "https://localhost:8080/"
        },
        "id": "laueZQx4uWpJ",
        "outputId": "b6e3c9eb-659e-4ae1-ed26-0ecb6a39da26"
      },
      "execution_count": 3,
      "outputs": [
        {
          "output_type": "stream",
          "name": "stdout",
          "text": [
            "\u001b[33mWARNING: Ignoring invalid distribution ~vidia-cufft-cu12 (/usr/local/lib/python3.11/dist-packages)\u001b[0m\u001b[33m\n",
            "\u001b[0m\u001b[33mWARNING: Ignoring invalid distribution ~vidia-cufft-cu12 (/usr/local/lib/python3.11/dist-packages)\u001b[0m\u001b[33m\n",
            "\u001b[0mRequirement already satisfied: nest_asyncio in /usr/local/lib/python3.11/dist-packages (1.6.0)\n",
            "\u001b[33mWARNING: Ignoring invalid distribution ~vidia-cufft-cu12 (/usr/local/lib/python3.11/dist-packages)\u001b[0m\u001b[33m\n",
            "\u001b[0m"
          ]
        }
      ]
    },
    {
      "cell_type": "code",
      "source": [
        "from pyngrok import ngrok\n"
      ],
      "metadata": {
        "id": "N0L_Yj0vud63"
      },
      "execution_count": 4,
      "outputs": []
    },
    {
      "cell_type": "code",
      "source": [
        "!pip install uvicorn\n"
      ],
      "metadata": {
        "colab": {
          "base_uri": "https://localhost:8080/"
        },
        "id": "QuTJwMNQunzn",
        "outputId": "c75fa233-7803-44ca-a955-03138fda9f68"
      },
      "execution_count": 6,
      "outputs": [
        {
          "output_type": "stream",
          "name": "stdout",
          "text": [
            "\u001b[33mWARNING: Ignoring invalid distribution ~vidia-cufft-cu12 (/usr/local/lib/python3.11/dist-packages)\u001b[0m\u001b[33m\n",
            "\u001b[0m\u001b[33mWARNING: Ignoring invalid distribution ~vidia-cufft-cu12 (/usr/local/lib/python3.11/dist-packages)\u001b[0m\u001b[33m\n",
            "\u001b[0mRequirement already satisfied: uvicorn in /usr/local/lib/python3.11/dist-packages (0.35.0)\n",
            "Requirement already satisfied: click>=7.0 in /usr/local/lib/python3.11/dist-packages (from uvicorn) (8.2.1)\n",
            "Requirement already satisfied: h11>=0.8 in /usr/local/lib/python3.11/dist-packages (from uvicorn) (0.16.0)\n",
            "\u001b[33mWARNING: Ignoring invalid distribution ~vidia-cufft-cu12 (/usr/local/lib/python3.11/dist-packages)\u001b[0m\u001b[33m\n",
            "\u001b[0m"
          ]
        }
      ]
    },
    {
      "cell_type": "code",
      "source": [
        "import uvicorn\n"
      ],
      "metadata": {
        "id": "65SSNGltuszn"
      },
      "execution_count": 7,
      "outputs": []
    },
    {
      "cell_type": "code",
      "source": [
        "# Enable nested event loop\n",
        "nest_asyncio.apply()\n",
        "\n",
        "# Expose the FastAPI app to the internet using ngrok\n",
        "public_url = ngrok.connect(9200)\n",
        "print(f\"Your app is live at: {public_url}\")\n",
        "\n",
        "# Start the server\n",
        "uvicorn.run(app, port=9200)\n"
      ],
      "metadata": {
        "colab": {
          "base_uri": "https://localhost:8080/",
          "height": 193
        },
        "collapsed": true,
        "id": "X05kiWoJSoWl",
        "outputId": "0c18829a-5e38-46c3-fe3b-49954403351b"
      },
      "execution_count": 8,
      "outputs": [
        {
          "output_type": "stream",
          "name": "stdout",
          "text": [
            "Your app is live at: NgrokTunnel: \"https://a1c83182fdb7.ngrok-free.app\" -> \"http://localhost:9200\"\n"
          ]
        },
        {
          "output_type": "error",
          "ename": "NameError",
          "evalue": "name 'app' is not defined",
          "traceback": [
            "\u001b[0;31m---------------------------------------------------------------------------\u001b[0m",
            "\u001b[0;31mNameError\u001b[0m                                 Traceback (most recent call last)",
            "\u001b[0;32m/tmp/ipython-input-8-1254152847.py\u001b[0m in \u001b[0;36m<cell line: 0>\u001b[0;34m()\u001b[0m\n\u001b[1;32m      7\u001b[0m \u001b[0;34m\u001b[0m\u001b[0m\n\u001b[1;32m      8\u001b[0m \u001b[0;31m# Start the server\u001b[0m\u001b[0;34m\u001b[0m\u001b[0;34m\u001b[0m\u001b[0m\n\u001b[0;32m----> 9\u001b[0;31m \u001b[0muvicorn\u001b[0m\u001b[0;34m.\u001b[0m\u001b[0mrun\u001b[0m\u001b[0;34m(\u001b[0m\u001b[0mapp\u001b[0m\u001b[0;34m,\u001b[0m \u001b[0mport\u001b[0m\u001b[0;34m=\u001b[0m\u001b[0;36m9200\u001b[0m\u001b[0;34m)\u001b[0m\u001b[0;34m\u001b[0m\u001b[0;34m\u001b[0m\u001b[0m\n\u001b[0m",
            "\u001b[0;31mNameError\u001b[0m: name 'app' is not defined"
          ]
        }
      ]
    },
    {
      "cell_type": "code",
      "source": [],
      "metadata": {
        "id": "ctPoPCw8uclB"
      },
      "execution_count": null,
      "outputs": []
    },
    {
      "cell_type": "code",
      "source": [
        "!ngrok config add-authtoken 30M4sFq07MnnJN7ao11As3FeOoo_64mq5pD6GSnPzk62CY2N\n"
      ],
      "metadata": {
        "id": "JsawJEHZXbkN"
      },
      "execution_count": null,
      "outputs": []
    },
    {
      "cell_type": "code",
      "source": [
        "public_url = ngrok.connect(9200)\n",
        "print(f\"Your app is live at: {public_url}\")\n"
      ],
      "metadata": {
        "id": "y3fLv61zX46S"
      },
      "execution_count": null,
      "outputs": []
    },
    {
      "cell_type": "code",
      "source": [
        "from fastapi import FastAPI\n",
        "from pydantic import BaseModel\n",
        "import numpy as np\n",
        "\n",
        "app = FastAPI()\n",
        "\n",
        "titles = np.load(\"question_titles.npy\", allow_pickle=True)\n",
        "embeddings = np.load(\"question_embeddings.npy\", allow_pickle=True)\n",
        "\n",
        "from sklearn.metrics.pairwise import cosine_similarity\n",
        "\n",
        "class Query(BaseModel):\n",
        "    question: str\n",
        "\n",
        "from sentence_transformers import SentenceTransformer\n",
        "model = SentenceTransformer(\"all-MiniLM-L6-v2\")\n",
        "\n",
        "@app.post(\"/predict\")\n",
        "def predict(query: Query):\n",
        "    query_embedding = model.encode([query.question])\n",
        "    similarity_scores = cosine_similarity(query_embedding, embeddings)[0]\n",
        "    top_index = similarity_scores.argmax()\n",
        "    return {\n",
        "        \"most_similar_question\": titles[top_index],\n",
        "        \"similarity_score\": float(similarity_scores[top_index])\n",
        "    }\n"
      ],
      "metadata": {
        "id": "Uqpo8XF-X7Co"
      },
      "execution_count": null,
      "outputs": []
    },
    {
      "cell_type": "code",
      "source": [
        "import nest_asyncio\n",
        "from pyngrok import ngrok\n",
        "import uvicorn\n",
        "\n",
        "nest_asyncio.apply()\n",
        "public_url = ngrok.connect(9200)\n",
        "print(\"Public URL:\", public_url)\n",
        "\n",
        "uvicorn.run(app, port=9200)\n"
      ],
      "metadata": {
        "collapsed": true,
        "id": "7APR8f7GYOwD"
      },
      "execution_count": null,
      "outputs": []
    },
    {
      "cell_type": "code",
      "source": [
        "import requests\n",
        "\n",
        "url = \"https://487ac8fd3afd.ngrok-free.app/search\"\n",
        "data = {\"query\": \"how to use pandas dataframe\"}\n",
        "\n",
        "headers = {\n",
        "    'Content-Type': 'application/json',\n",
        "    'ngrok-skip-browser-warning': 'true'\n",
        "}\n",
        "\n",
        "try:\n",
        "    response = requests.post(url, json=data, headers=headers, timeout=10)\n",
        "    print(\"Status Code:\", response.status_code)\n",
        "\n",
        "    if response.status_code == 200:\n",
        "        print(\"Response JSON:\")\n",
        "        print(response.json())\n",
        "    else:\n",
        "        print(\"Something went wrong:\", response.text)\n",
        "\n",
        "except requests.exceptions.RequestException as e:\n",
        "    print(\"Request failed:\", e)\n",
        "\n"
      ],
      "metadata": {
        "id": "TfPHZpsLnJA6"
      },
      "execution_count": null,
      "outputs": []
    },
    {
      "cell_type": "code",
      "source": [],
      "metadata": {
        "id": "At_KZQHxo16l"
      },
      "execution_count": null,
      "outputs": []
    }
  ]
}